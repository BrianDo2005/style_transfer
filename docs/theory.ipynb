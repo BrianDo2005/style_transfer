{
 "cells": [
  {
   "cell_type": "code",
   "execution_count": 1,
   "metadata": {
    "collapsed": true
   },
   "outputs": [],
   "source": [
    "import numpy as np\n",
    "import matplotlib.pyplot as plt\n",
    "\n",
    "%matplotlib inline"
   ]
  },
  {
   "cell_type": "markdown",
   "metadata": {},
   "source": [
    "# Problems with comparing [Gram matrices](https://en.wikipedia.org/wiki/Gramian_matrix)"
   ]
  },
  {
   "cell_type": "markdown",
   "metadata": {},
   "source": [
    "The style-loss function employed in [Gatys et al](https://arxiv.org/abs/1508.06576) is the sum of the squares (or Froebenius norm) of the differences of Gram matrices between the representative style and the generated image in the feature space of a given layer of the network.  \n",
    "\n",
    "A [Gram matrix](https://en.wikipedia.org/wiki/Gramian_matrix) is a non-central second moment. The example below is designed to illustrate how variables can have different [central moments](https://en.wikipedia.org/wiki/Moment_(mathematics) (means and covariances) but identical Gram matrices. \n",
    "\n",
    "\n",
    "Consider two random vectors, X and Y,  in three dimensional Euclidean space with [multivariate guassian](https://en.wikipedia.org/wiki/Multivariate_normal_distribution) distributions specified $\\mathcal{N_3}(mean_X, cov_X)$ and $\\mathcal{N_3}(mean_Y, cov_Y)$:\n",
    "\n"
   ]
  },
  {
   "cell_type": "code",
   "execution_count": 2,
   "metadata": {},
   "outputs": [],
   "source": [
    "mean_X = np.array([[0.0,-0.5,0.5]])\n",
    "corr_X = np.array([[1.,-.5,0.],[-.5,1.,0.],[0.,0.,1.]])\n",
    "sigma_X = np.array([[1., 1., 1.]])\n",
    "cov_X = sigma_X.T*corr_X*sigma_X #covariance matrix derived from components to ensure positive semi-definite\n",
    "\n",
    "mean_Y = np.array([[1.,-.5,0.]])\n",
    "corr_Y = np.array([[1.,0.,-.5],[0.,1.,-.25/np.sqrt(1.25)],[-.5,-.25/np.sqrt(1.25),1.]])\n",
    "sigma_Y = np.array([[0, 1., np.sqrt(1.25)]])\n",
    "cov_Y = sigma_Y.T*corr_Y*sigma_Y"
   ]
  },
  {
   "cell_type": "markdown",
   "metadata": {},
   "source": [
    "Lets generate random samples from these distributions:"
   ]
  },
  {
   "cell_type": "code",
   "execution_count": 3,
   "metadata": {},
   "outputs": [
    {
     "name": "stdout",
     "output_type": "stream",
     "text": [
      "5 samples of X: \n",
      " [[ 1.30226007 -1.45730148  0.09980416]\n",
      " [ 0.52909221 -1.34918255 -0.96486426]\n",
      " [ 0.50482889 -1.34756658  0.48699767]\n",
      " [-1.18177265  0.22841077 -0.65175687]\n",
      " [ 0.64447686  0.12951202  0.80160497]] \n",
      "\n",
      "5 samples of Y: \n",
      " [[ 1.         -0.9126742   0.98376757]\n",
      " [ 1.         -0.79464139  1.23165233]\n",
      " [ 1.         -1.04523238  0.73613958]\n",
      " [ 1.         -1.2722863   2.40541549]\n",
      " [ 1.         -0.14764009 -0.69366296]] \n",
      "\n"
     ]
    }
   ],
   "source": [
    "samples_X = np.random.multivariate_normal(mean_X[0], cov_X, 10000)\n",
    "samples_Y = np.random.multivariate_normal(mean_Y[0], cov_Y, 10000)\n",
    "\n",
    "print(\"5 samples of X:\", \"\\n\", samples_X[:5], \"\\n\")\n",
    "\n",
    "print(\"5 samples of Y:\", \"\\n\", samples_Y[:5], \"\\n\")"
   ]
  },
  {
   "cell_type": "code",
   "execution_count": 4,
   "metadata": {},
   "outputs": [
    {
     "name": "stdout",
     "output_type": "stream",
     "text": [
      "Observed gram matrix of X: \n",
      " [[ 0.99803923 -0.49560595  0.00317961]\n",
      " [-0.49560595  1.2449639  -0.27429657]\n",
      " [ 0.00317961 -0.27429657  1.27895202]] \n",
      "\n",
      "Observed gram matrix of Y: \n",
      " [[ 1.         -0.49155109 -0.00549951]\n",
      " [-0.49155109  1.24160472 -0.26368179]\n",
      " [-0.00549951 -0.26368179  1.23873601]] \n",
      "\n",
      "Gatys style-loss: 0.00204134135224\n"
     ]
    }
   ],
   "source": [
    "gram_X = np.matmul(samples_X.T, samples_X)/samples_X.shape[0]\n",
    "gram_Y = np.matmul(samples_Y.T, samples_Y)/samples_Y.shape[0]\n",
    "\n",
    "print(\"Observed gram matrix of X:\", \"\\n\", gram_X, \"\\n\")\n",
    "\n",
    "print(\"Observed gram matrix of Y:\", \"\\n\", gram_Y, \"\\n\")\n",
    "\n",
    "print(\"Gatys style-loss:\", np.sum((gram_X-gram_Y)**2))"
   ]
  },
  {
   "cell_type": "markdown",
   "metadata": {},
   "source": [
    "The style-loss function used in Gatys et al. would see these samples as identical (basically zero loss). Yet, if we plot samples onto an RGB feature space, we see they are visually very different:"
   ]
  },
  {
   "cell_type": "code",
   "execution_count": 5,
   "metadata": {},
   "outputs": [
    {
     "data": {
      "text/plain": [
       "<matplotlib.image.AxesImage at 0x7f7d789e6438>"
      ]
     },
     "execution_count": 5,
     "metadata": {},
     "output_type": "execute_result"
    },
    {
     "data": {
      "image/png": "[encoded data removed]",
      "text/plain": [
       "<matplotlib.figure.Figure at 0x7f7d789e6400>"
      ]
     },
     "metadata": {},
     "output_type": "display_data"
    }
   ],
   "source": [
    "fig, axes = plt.subplots(1, 2, figsize=(10, 10),\n",
    "                         subplot_kw={'xticks': [], 'yticks': []})\n",
    "\n",
    "fig.subplots_adjust(hspace=0.3, wspace=0.05)\n",
    "\n",
    "\n",
    "#plot first 400\n",
    "axes[0].imshow(samples_X[:400].reshape((20,20,3)))\n",
    "axes[1].imshow(samples_Y[:400].reshape((20,20,3)))\n"
   ]
  },
  {
   "cell_type": "markdown",
   "metadata": {},
   "source": [
    "The sum of squared differences of Graham matrices is not a valid metric on the set of probability distributions. Violates the [Identity of Indiscernibles](https://en.wikipedia.org/wiki/Identity_of_indiscernibles)."
   ]
  },
  {
   "cell_type": "markdown",
   "metadata": {},
   "source": [
    "A similar example with simplified numbers:\n",
    "\n",
    "Consider W and Z where  $W$~$\\mathcal{N_3}(mean_W, cov_W)$ and $Z$~$\\mathcal{N_3}(mean_Z, cov_Z)$:"
   ]
  },
  {
   "cell_type": "code",
   "execution_count": 6,
   "metadata": {},
   "outputs": [
    {
     "name": "stdout",
     "output_type": "stream",
     "text": [
      "Observed gram matrix of W: \n",
      " [[ 1.  1.  1.]\n",
      " [ 1.  1.  1.]\n",
      " [ 1.  1.  1.]] \n",
      "\n",
      "Observed gram matrix of Z: \n",
      " [[ 1.00991674  1.00991674  1.00991674]\n",
      " [ 1.00991674  1.00991674  1.00991674]\n",
      " [ 1.00991674  1.00991674  1.00991674]] \n",
      "\n",
      "Gatys style-loss: 0.000885074960646\n"
     ]
    }
   ],
   "source": [
    "mean_W = np.array([[1.,1.,1.]])\n",
    "cov_W = np.zeros((3,3))\n",
    "\n",
    "mean_Z = np.array([[0.,0.,0.]])\n",
    "cov_Z = np.ones((3,3))\n",
    "\n",
    "samples_W = np.random.multivariate_normal(mean_W[0], cov_W, 10000)\n",
    "samples_Z = np.random.multivariate_normal(mean_Z[0], cov_Z, 10000)\n",
    "\n",
    "gram_W = np.matmul(samples_W.T, samples_W)/samples_W.shape[0]\n",
    "gram_Z = np.matmul(samples_Z.T, samples_Z)/samples_Z.shape[0]\n",
    "\n",
    "print(\"Observed gram matrix of W:\", \"\\n\", gram_W, \"\\n\")\n",
    "\n",
    "print(\"Observed gram matrix of Z:\", \"\\n\", gram_Z, \"\\n\")\n",
    "\n",
    "print(\"Gatys style-loss:\", np.sum((gram_W-gram_Z)**2))"
   ]
  },
  {
   "cell_type": "code",
   "execution_count": 7,
   "metadata": {},
   "outputs": [
    {
     "data": {
      "text/plain": [
       "<matplotlib.image.AxesImage at 0x7f7d76932320>"
      ]
     },
     "execution_count": 7,
     "metadata": {},
     "output_type": "execute_result"
    },
    {
     "data": {
      "image/png": "[encoded data removed]",
      "text/plain": [
       "<matplotlib.figure.Figure at 0x7f7d76932358>"
      ]
     },
     "metadata": {},
     "output_type": "display_data"
    }
   ],
   "source": [
    "fig, axes = plt.subplots(1, 2, figsize=(10, 10),\n",
    "                         subplot_kw={'xticks': [], 'yticks': []})\n",
    "\n",
    "fig.subplots_adjust(hspace=0.3, wspace=0.05)\n",
    "\n",
    "axes[0].imshow(samples_W[:400].reshape((20,20,3)))\n",
    "axes[1].imshow(samples_Z[:400].reshape((20,20,3)))\n"
   ]
  },
  {
   "cell_type": "markdown",
   "metadata": {},
   "source": [
    "## Wasserstein Distance, on the other hand, is a valid metric for multi-variate Gaussians:\n",
    "\n",
    "It can be calculated in closed form, but we do have to assume our variables (image features) are of Gaussian measure"
   ]
  },
  {
   "cell_type": "code",
   "execution_count": 8,
   "metadata": {
    "collapsed": true
   },
   "outputs": [],
   "source": [
    "def wdist(m1, cov1, m2, cov2): \n",
    "  mean_diff = np.sum((m1-m2)**2)\n",
    "  var_components = np.trace(cov1+cov2)\n",
    "  #need to round to prevent eigenvalues very close to zero from becoming negative\n",
    "  var_overlap = np.sum(np.sqrt(np.round(np.linalg.eigvals(np.matmul(cov1,cov2)),5)))\n",
    "  \n",
    "  return  np.sqrt(mean_diff+var_components-2*var_overlap)"
   ]
  },
  {
   "cell_type": "code",
   "execution_count": 9,
   "metadata": {},
   "outputs": [
    {
     "data": {
      "text/plain": [
       "(1.5135220191046239, 2.4494897427831779)"
      ]
     },
     "execution_count": 9,
     "metadata": {},
     "output_type": "execute_result"
    }
   ],
   "source": [
    "wdist(mean_X, cov_X, mean_Y, cov_Y), wdist(mean_W, cov_W, mean_Z, cov_Z)"
   ]
  },
  {
   "cell_type": "code",
   "execution_count": 10,
   "metadata": {},
   "outputs": [
    {
     "data": {
      "text/plain": [
       "True"
      ]
     },
     "execution_count": 10,
     "metadata": {},
     "output_type": "execute_result"
    }
   ],
   "source": [
    "wdist(mean_X, cov_X, mean_Y, cov_Y) == wdist(mean_Y, cov_Y, mean_X, cov_X)"
   ]
  },
  {
   "cell_type": "code",
   "execution_count": 11,
   "metadata": {},
   "outputs": [
    {
     "data": {
      "text/plain": [
       "True"
      ]
     },
     "execution_count": 11,
     "metadata": {},
     "output_type": "execute_result"
    }
   ],
   "source": [
    "(wdist(mean_X, cov_X, mean_Y, cov_Y)**2+wdist(mean_Y, cov_Y, mean_Z, cov_Z)**2) > wdist(mean_X, cov_X, mean_Z, cov_Z)**2"
   ]
  },
  {
   "cell_type": "markdown",
   "metadata": {},
   "source": [
    "# Style Transfer as Optimal Transport"
   ]
  },
  {
   "cell_type": "markdown",
   "metadata": {},
   "source": [
    "### Historical Foundation: Texture Synthesis\n",
    "\n",
    "“What features and statistics are characteristics of a texture pattern, so that texture pairs that share the same features and statistics cannot be told apart by pre-attentive human visual perception?”  -- [Bela Julesz](https://en.wikipedia.org/wiki/B%C3%A9la_Julesz)\n",
    "\n"
   ]
  },
  {
   "cell_type": "markdown",
   "metadata": {},
   "source": [
    "With Style Transfer, we seek to transfer the 'features and statistics' of a representative style onto a subject image.\n",
    "\n",
    "\n",
    "#### Is it possible to fully transfer a distribution without assuming any structure (ie transfer a non-parametric distribution)?\n",
    "\n",
    "In a way, yes, but its computationally intensive because it requires pixel-to-pixel comparisons. In order to perform a full Earth Mover's Distance calculation on two 224x224 images fed into VGG19::"
   ]
  },
  {
   "cell_type": "code",
   "execution_count": 12,
   "metadata": {},
   "outputs": [
    {
     "name": "stdout",
     "output_type": "stream",
     "text": [
      "Distance matrix size in gb for float32 at relu1_1: 644.5 gb\n",
      "Once have dist matrix, to calc EMD at relu1_1: 126.3 TFLOPS\n"
     ]
    }
   ],
   "source": [
    "relu1_1_pixels = 224*224\n",
    "relu1_1_features = 64\n",
    "\n",
    "distance_matrix_size = relu1_1_features*((relu1_1_pixels)**2)*(32/8)/(10**9)\n",
    "tflops_per_evaulation = (relu1_1_pixels)**3/(10**12)\n",
    "\n",
    "print(\"Distance matrix size in gb for float32 at relu1_1: {:4.1f} gb\".format(distance_matrix_size))\n",
    "print(\"Once have dist matrix, to calc EMD at relu1_1: {:4.1f} TFLOPS\".format(tflops_per_evaulation))"
   ]
  }
 ],
 "metadata": {
  "kernelspec": {
   "display_name": "Python 3",
   "language": "python",
   "name": "python3"
  },
  "language_info": {
   "codemirror_mode": {
    "name": "ipython",
    "version": 3
   },
   "file_extension": ".py",
   "mimetype": "text/x-python",
   "name": "python",
   "nbconvert_exporter": "python",
   "pygments_lexer": "ipython3",
   "version": "3.5.3"
  }
 },
 "nbformat": 4,
 "nbformat_minor": 2
}
