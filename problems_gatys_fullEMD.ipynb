{
 "cells": [
  {
   "cell_type": "code",
   "execution_count": 1,
   "metadata": {
    "collapsed": true
   },
   "outputs": [],
   "source": [
    "import numpy as np\n",
    "import matplotlib.pyplot as plt\n",
    "\n",
    "%matplotlib inline"
   ]
  },
  {
   "cell_type": "markdown",
   "metadata": {},
   "source": [
    "# Problems with comparing Graham matrices"
   ]
  },
  {
   "cell_type": "markdown",
   "metadata": {},
   "source": [
    "Consider two distributions, a~N(mean_a, cov_a) and b~N(mean_b, cov_b), in R^3:"
   ]
  },
  {
   "cell_type": "code",
   "execution_count": 2,
   "metadata": {},
   "outputs": [
    {
     "data": {
      "text/plain": [
       "array([[ 1.  , -0.5 ,  0.  ],\n",
       "       [-0.5 ,  1.25, -0.25],\n",
       "       [ 0.  , -0.25,  1.25]])"
      ]
     },
     "execution_count": 2,
     "metadata": {},
     "output_type": "execute_result"
    }
   ],
   "source": [
    "mean_a = np.array([[0.0,-0.5,0.5]])\n",
    "corr_a = np.array([[1.,-.5,0.],[-.5,1.,0.],[0.,0.,1.]])\n",
    "sigma_a = np.array([[1., 1., 1.]])\n",
    "cov_a = corr_a * (sigma_a.T*sigma_a)\n",
    "\n",
    "graham_a = mean_a.T*mean_a + corr_a * (sigma_a.T*sigma_a)\n",
    "\n",
    "graham_a"
   ]
  },
  {
   "cell_type": "code",
   "execution_count": 3,
   "metadata": {},
   "outputs": [
    {
     "data": {
      "text/plain": [
       "array([[ 1.        , -0.5       ,  0.        ],\n",
       "       [-0.5       ,  1.25      , -0.25000001],\n",
       "       [ 0.        , -0.25000001,  1.25000003]])"
      ]
     },
     "execution_count": 3,
     "metadata": {},
     "output_type": "execute_result"
    }
   ],
   "source": [
    "mean_b = np.array([[1.,-.5,0.]])\n",
    "corr_b = np.array([[1.,0.,-.5],[0.,1.,-0.2236068],[-.5,-0.2236068,1.]])\n",
    "sigma_b = np.array([[0, 1., 1.118034]])\n",
    "cov_b = corr_b * (sigma_b.T*sigma_b)\n",
    "\n",
    "\n",
    "graham_b = mean_b.T*mean_b + corr_b * (sigma_b.T*sigma_b)\n",
    "\n",
    "graham_b"
   ]
  },
  {
   "cell_type": "markdown",
   "metadata": {},
   "source": [
    "These distributions have identical graham matrices (to a certain precision):"
   ]
  },
  {
   "cell_type": "code",
   "execution_count": 4,
   "metadata": {},
   "outputs": [
    {
     "data": {
      "text/plain": [
       "6.834502805985236e-16"
      ]
     },
     "execution_count": 4,
     "metadata": {},
     "output_type": "execute_result"
    }
   ],
   "source": [
    "def gatys_loss(m1, cov1, m2, cov2):\n",
    "  g1 = m1.T*m1 + cov1\n",
    "  g2 = m2.T*m2 + cov2\n",
    "  return np.sum((g1-g2)**2)\n",
    "\n",
    "gatys_loss(mean_a, cov_a, mean_b, cov_b)"
   ]
  },
  {
   "cell_type": "markdown",
   "metadata": {},
   "source": [
    "Yet, if we plot them in RGB-space, they are certainly different:"
   ]
  },
  {
   "cell_type": "code",
   "execution_count": 5,
   "metadata": {
    "scrolled": true
   },
   "outputs": [
    {
     "data": {
      "text/plain": [
       "<matplotlib.image.AxesImage at 0x7f5dc06da0b8>"
      ]
     },
     "execution_count": 5,
     "metadata": {},
     "output_type": "execute_result"
    },
    {
     "data": {
      "image/png": "[encoded data removed]",
      "text/plain": [
       "<matplotlib.figure.Figure at 0x7f5dc06da0f0>"
      ]
     },
     "metadata": {},
     "output_type": "display_data"
    }
   ],
   "source": [
    "fig, axes = plt.subplots(1, 2, figsize=(10, 10),\n",
    "                         subplot_kw={'xticks': [], 'yticks': []})\n",
    "\n",
    "fig.subplots_adjust(hspace=0.3, wspace=0.05)\n",
    "\n",
    "axes[1].imshow(np.random.multivariate_normal(mean_a[0], cov_a, (10,10)))\n",
    "axes[0].imshow(np.random.multivariate_normal(mean_b[0], cov_b, (10,10)))\n"
   ]
  },
  {
   "cell_type": "markdown",
   "metadata": {},
   "source": [
    "Similarly, consider two distributions: c~N(mean_c, cov_c) and d~N(mean_d, cov_d), in R^3:"
   ]
  },
  {
   "cell_type": "code",
   "execution_count": 6,
   "metadata": {},
   "outputs": [
    {
     "data": {
      "text/plain": [
       "0.0"
      ]
     },
     "execution_count": 6,
     "metadata": {},
     "output_type": "execute_result"
    }
   ],
   "source": [
    "mean_c = np.array([[1.,1.,1.]])\n",
    "cov_c = np.zeros((3,3))\n",
    "\n",
    "mean_d = np.array([[0.,0.,0.]])\n",
    "cov_d = np.ones((3,3))\n",
    "\n",
    "gatys_loss(mean_c, cov_c, mean_d, cov_d)"
   ]
  },
  {
   "cell_type": "code",
   "execution_count": 7,
   "metadata": {},
   "outputs": [
    {
     "data": {
      "text/plain": [
       "<matplotlib.image.AxesImage at 0x7f5dbe619358>"
      ]
     },
     "execution_count": 7,
     "metadata": {},
     "output_type": "execute_result"
    },
    {
     "data": {
      "image/png": "[encoded data removed]",
      "text/plain": [
       "<matplotlib.figure.Figure at 0x7f5dbe619550>"
      ]
     },
     "metadata": {},
     "output_type": "display_data"
    }
   ],
   "source": [
    "fig, axes = plt.subplots(1, 2, figsize=(10, 10),\n",
    "                         subplot_kw={'xticks': [], 'yticks': []})\n",
    "\n",
    "fig.subplots_adjust(hspace=0.3, wspace=0.05)\n",
    "\n",
    "axes[1].imshow(np.random.multivariate_normal(mean_c[0], cov_c, (10,10)))\n",
    "axes[0].imshow(np.random.multivariate_normal(mean_d[0], cov_d, (10,10)))\n"
   ]
  },
  {
   "cell_type": "markdown",
   "metadata": {},
   "source": [
    "### The frobenius norm of the difference between Graham matrices is not a valid metric. "
   ]
  },
  {
   "cell_type": "code",
   "execution_count": null,
   "metadata": {
    "collapsed": true
   },
   "outputs": [],
   "source": []
  },
  {
   "cell_type": "markdown",
   "metadata": {},
   "source": [
    "# Issues with hungarian algorithm/full Earth Movers' Distance"
   ]
  },
  {
   "cell_type": "markdown",
   "metadata": {},
   "source": [
    "Requires pixel-to-pixel comparisons, computation explodes in size.\n",
    "Consider two 224x224x3 images fed into VGG19:"
   ]
  },
  {
   "cell_type": "code",
   "execution_count": 8,
   "metadata": {},
   "outputs": [
    {
     "name": "stdout",
     "output_type": "stream",
     "text": [
      "Distance matrix size in gb for float32 at relu1_1: 644.5\n",
      "Once have dist matrix, TFLOPS to calc EMD at relu1_1: 126.3\n"
     ]
    }
   ],
   "source": [
    "relu1_1_pixels = 224*224\n",
    "relu1_1_features = 64\n",
    "\n",
    "distance_matrix_size = relu1_1_features*((relu1_1_pixels)**2)*(32/8)/(10**9)\n",
    "tflops_per_evaulation = (relu1_1_pixels)**3/(10**12)\n",
    "\n",
    "print(\"Distance matrix size in gb for float32 at relu1_1:\",\"{:4.1f}\".format(distance_matrix_size))\n",
    "print(\"Once have dist matrix, TFLOPS to calc EMD at relu1_1:\",\"{:4.1f}\".format(tflops_per_evaulation))"
   ]
  },
  {
   "cell_type": "code",
   "execution_count": null,
   "metadata": {
    "collapsed": true
   },
   "outputs": [],
   "source": []
  }
 ],
 "metadata": {
  "kernelspec": {
   "display_name": "Python 3",
   "language": "python",
   "name": "python3"
  },
  "language_info": {
   "codemirror_mode": {
    "name": "ipython",
    "version": 3
   },
   "file_extension": ".py",
   "mimetype": "text/x-python",
   "name": "python",
   "nbconvert_exporter": "python",
   "pygments_lexer": "ipython3",
   "version": "3.5.3"
  }
 },
 "nbformat": 4,
 "nbformat_minor": 2
}
